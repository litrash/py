{
 "cells": [
  {
   "cell_type": "code",
   "execution_count": 6,
   "metadata": {},
   "outputs": [
    {
     "ename": "NoSuchElementException",
     "evalue": "Message: no such element: Unable to locate element: {\"method\":\"css selector\",\"selector\":\".input-trigger\"}\n  (Session info: chrome=106.0.5249.103)\nStacktrace:\nBacktrace:\n\tOrdinal0 [0x008B1ED3+2236115]\n\tOrdinal0 [0x008492F1+1807089]\n\tOrdinal0 [0x007566FD+812797]\n\tOrdinal0 [0x007855DF+1005023]\n\tOrdinal0 [0x007857CB+1005515]\n\tOrdinal0 [0x007B7632+1209906]\n\tOrdinal0 [0x007A1AD4+1120980]\n\tOrdinal0 [0x007B59E2+1202658]\n\tOrdinal0 [0x007A18A6+1120422]\n\tOrdinal0 [0x0077A73D+960317]\n\tOrdinal0 [0x0077B71F+964383]\n\tGetHandleVerifier [0x00B5E7E2+2743074]\n\tGetHandleVerifier [0x00B508D4+2685972]\n\tGetHandleVerifier [0x00942BAA+532202]\n\tGetHandleVerifier [0x00941990+527568]\n\tOrdinal0 [0x0085080C+1837068]\n\tOrdinal0 [0x00854CD8+1854680]\n\tOrdinal0 [0x00854DC5+1854917]\n\tOrdinal0 [0x0085ED64+1895780]\n\tBaseThreadInitThunk [0x766300F9+25]\n\tRtlGetAppContainerNamedObjectPath [0x77687BBE+286]\n\tRtlGetAppContainerNamedObjectPath [0x77687B8E+238]\n",
     "output_type": "error",
     "traceback": [
      "\u001b[1;31m---------------------------------------------------------------------------\u001b[0m",
      "\u001b[1;31mNoSuchElementException\u001b[0m                    Traceback (most recent call last)",
      "Input \u001b[1;32mIn [6]\u001b[0m, in \u001b[0;36m<cell line: 24>\u001b[1;34m()\u001b[0m\n\u001b[0;32m     21\u001b[0m b\u001b[38;5;241m.\u001b[39mget(\u001b[38;5;124m'\u001b[39m\u001b[38;5;124mhttps://s.yiban.cn/app/2003786/post-detail/dJaFBNl9eX4JdG2\u001b[39m\u001b[38;5;124m'\u001b[39m)\n\u001b[0;32m     22\u001b[0m time\u001b[38;5;241m.\u001b[39msleep(\u001b[38;5;241m5\u001b[39m)\n\u001b[1;32m---> 24\u001b[0m box_4 \u001b[38;5;241m=\u001b[39m \u001b[43mb\u001b[49m\u001b[38;5;241;43m.\u001b[39;49m\u001b[43mfind_element\u001b[49m\u001b[43m(\u001b[49m\u001b[38;5;124;43m'\u001b[39;49m\u001b[38;5;124;43mclass name\u001b[39;49m\u001b[38;5;124;43m'\u001b[39;49m\u001b[43m,\u001b[49m\u001b[38;5;124;43m'\u001b[39;49m\u001b[38;5;124;43minput-trigger\u001b[39;49m\u001b[38;5;124;43m'\u001b[39;49m\u001b[43m)\u001b[49m\n\u001b[0;32m     25\u001b[0m box_4\u001b[38;5;241m.\u001b[39mclick()\n\u001b[0;32m     26\u001b[0m box_5\u001b[38;5;241m=\u001b[39mb\u001b[38;5;241m.\u001b[39mfind_element(\u001b[38;5;124m'\u001b[39m\u001b[38;5;124mclass name\u001b[39m\u001b[38;5;124m'\u001b[39m,\u001b[38;5;124m'\u001b[39m\u001b[38;5;124minput-wrapper\u001b[39m\u001b[38;5;124m'\u001b[39m)\n",
      "File \u001b[1;32mD:\\Anaconda\\lib\\site-packages\\selenium\\webdriver\\remote\\webdriver.py:861\u001b[0m, in \u001b[0;36mWebDriver.find_element\u001b[1;34m(self, by, value)\u001b[0m\n\u001b[0;32m    858\u001b[0m     by \u001b[38;5;241m=\u001b[39m By\u001b[38;5;241m.\u001b[39mCSS_SELECTOR\n\u001b[0;32m    859\u001b[0m     value \u001b[38;5;241m=\u001b[39m \u001b[38;5;124m'\u001b[39m\u001b[38;5;124m[name=\u001b[39m\u001b[38;5;124m\"\u001b[39m\u001b[38;5;132;01m%s\u001b[39;00m\u001b[38;5;124m\"\u001b[39m\u001b[38;5;124m]\u001b[39m\u001b[38;5;124m'\u001b[39m \u001b[38;5;241m%\u001b[39m value\n\u001b[1;32m--> 861\u001b[0m \u001b[38;5;28;01mreturn\u001b[39;00m \u001b[38;5;28;43mself\u001b[39;49m\u001b[38;5;241;43m.\u001b[39;49m\u001b[43mexecute\u001b[49m\u001b[43m(\u001b[49m\u001b[43mCommand\u001b[49m\u001b[38;5;241;43m.\u001b[39;49m\u001b[43mFIND_ELEMENT\u001b[49m\u001b[43m,\u001b[49m\u001b[43m \u001b[49m\u001b[43m{\u001b[49m\u001b[38;5;124;43m\"\u001b[39;49m\u001b[38;5;124;43musing\u001b[39;49m\u001b[38;5;124;43m\"\u001b[39;49m\u001b[43m:\u001b[49m\u001b[43m \u001b[49m\u001b[43mby\u001b[49m\u001b[43m,\u001b[49m\u001b[43m \u001b[49m\u001b[38;5;124;43m\"\u001b[39;49m\u001b[38;5;124;43mvalue\u001b[39;49m\u001b[38;5;124;43m\"\u001b[39;49m\u001b[43m:\u001b[49m\u001b[43m \u001b[49m\u001b[43mvalue\u001b[49m\u001b[43m}\u001b[49m\u001b[43m)\u001b[49m[\u001b[38;5;124m\"\u001b[39m\u001b[38;5;124mvalue\u001b[39m\u001b[38;5;124m\"\u001b[39m]\n",
      "File \u001b[1;32mD:\\Anaconda\\lib\\site-packages\\selenium\\webdriver\\remote\\webdriver.py:444\u001b[0m, in \u001b[0;36mWebDriver.execute\u001b[1;34m(self, driver_command, params)\u001b[0m\n\u001b[0;32m    442\u001b[0m response \u001b[38;5;241m=\u001b[39m \u001b[38;5;28mself\u001b[39m\u001b[38;5;241m.\u001b[39mcommand_executor\u001b[38;5;241m.\u001b[39mexecute(driver_command, params)\n\u001b[0;32m    443\u001b[0m \u001b[38;5;28;01mif\u001b[39;00m response:\n\u001b[1;32m--> 444\u001b[0m     \u001b[38;5;28;43mself\u001b[39;49m\u001b[38;5;241;43m.\u001b[39;49m\u001b[43merror_handler\u001b[49m\u001b[38;5;241;43m.\u001b[39;49m\u001b[43mcheck_response\u001b[49m\u001b[43m(\u001b[49m\u001b[43mresponse\u001b[49m\u001b[43m)\u001b[49m\n\u001b[0;32m    445\u001b[0m     response[\u001b[38;5;124m\"\u001b[39m\u001b[38;5;124mvalue\u001b[39m\u001b[38;5;124m\"\u001b[39m] \u001b[38;5;241m=\u001b[39m \u001b[38;5;28mself\u001b[39m\u001b[38;5;241m.\u001b[39m_unwrap_value(response\u001b[38;5;241m.\u001b[39mget(\u001b[38;5;124m\"\u001b[39m\u001b[38;5;124mvalue\u001b[39m\u001b[38;5;124m\"\u001b[39m, \u001b[38;5;28;01mNone\u001b[39;00m))\n\u001b[0;32m    446\u001b[0m     \u001b[38;5;28;01mreturn\u001b[39;00m response\n",
      "File \u001b[1;32mD:\\Anaconda\\lib\\site-packages\\selenium\\webdriver\\remote\\errorhandler.py:249\u001b[0m, in \u001b[0;36mErrorHandler.check_response\u001b[1;34m(self, response)\u001b[0m\n\u001b[0;32m    247\u001b[0m         alert_text \u001b[38;5;241m=\u001b[39m value[\u001b[38;5;124m\"\u001b[39m\u001b[38;5;124malert\u001b[39m\u001b[38;5;124m\"\u001b[39m]\u001b[38;5;241m.\u001b[39mget(\u001b[38;5;124m\"\u001b[39m\u001b[38;5;124mtext\u001b[39m\u001b[38;5;124m\"\u001b[39m)\n\u001b[0;32m    248\u001b[0m     \u001b[38;5;28;01mraise\u001b[39;00m exception_class(message, screen, stacktrace, alert_text)  \u001b[38;5;66;03m# type: ignore[call-arg]  # mypy is not smart enough here\u001b[39;00m\n\u001b[1;32m--> 249\u001b[0m \u001b[38;5;28;01mraise\u001b[39;00m exception_class(message, screen, stacktrace)\n",
      "\u001b[1;31mNoSuchElementException\u001b[0m: Message: no such element: Unable to locate element: {\"method\":\"css selector\",\"selector\":\".input-trigger\"}\n  (Session info: chrome=106.0.5249.103)\nStacktrace:\nBacktrace:\n\tOrdinal0 [0x008B1ED3+2236115]\n\tOrdinal0 [0x008492F1+1807089]\n\tOrdinal0 [0x007566FD+812797]\n\tOrdinal0 [0x007855DF+1005023]\n\tOrdinal0 [0x007857CB+1005515]\n\tOrdinal0 [0x007B7632+1209906]\n\tOrdinal0 [0x007A1AD4+1120980]\n\tOrdinal0 [0x007B59E2+1202658]\n\tOrdinal0 [0x007A18A6+1120422]\n\tOrdinal0 [0x0077A73D+960317]\n\tOrdinal0 [0x0077B71F+964383]\n\tGetHandleVerifier [0x00B5E7E2+2743074]\n\tGetHandleVerifier [0x00B508D4+2685972]\n\tGetHandleVerifier [0x00942BAA+532202]\n\tGetHandleVerifier [0x00941990+527568]\n\tOrdinal0 [0x0085080C+1837068]\n\tOrdinal0 [0x00854CD8+1854680]\n\tOrdinal0 [0x00854DC5+1854917]\n\tOrdinal0 [0x0085ED64+1895780]\n\tBaseThreadInitThunk [0x766300F9+25]\n\tRtlGetAppContainerNamedObjectPath [0x77687BBE+286]\n\tRtlGetAppContainerNamedObjectPath [0x77687B8E+238]\n"
     ]
    }
   ],
   "source": [
    "import selenium\n",
    "from selenium import webdriver\n",
    "from selenium.webdriver.common.action_chains import ActionChains\n",
    "from time import sleep\n",
    "from bs4 import BeautifulSoup\n",
    "import time\n",
    "\n",
    "from selenium import webdriver\n",
    "b = webdriver.Chrome()\n",
    "b.get('https://www.yiban.cn/login?go=https%3A%2F%2Fwww.yiban.cn%2F')\n",
    "html = b.page_source\n",
    "from selenium.webdriver.common.by import By\n",
    "box = b.find_element('id','account-txt')\n",
    "box_1=b.find_element('id','password-txt')\n",
    "box_2=b.find_element('id','login-btn')\n",
    "box.send_keys('15825215171')\n",
    "box_1.send_keys('lhj2001129')\n",
    "time.sleep(2)\n",
    "box_2.click()\n",
    "\n",
    "b.get('https://s.yiban.cn/app/2003786/post-detail/dJaFBNl9eX4JdG2')\n",
    "time.sleep(5)\n",
    "\n",
    "box_4 = b.find_element('class name','input-trigger')\n",
    "box_4.click()\n",
    "box_5=b.find_element('class name','input-wrapper')\n",
    "box_5.send_keys('66')"
   ]
  },
  {
   "cell_type": "code",
   "execution_count": null,
   "metadata": {},
   "outputs": [],
   "source": []
  }
 ],
 "metadata": {
  "kernelspec": {
   "display_name": "Python 3 (ipykernel)",
   "language": "python",
   "name": "python3"
  },
  "language_info": {
   "codemirror_mode": {
    "name": "ipython",
    "version": 3
   },
   "file_extension": ".py",
   "mimetype": "text/x-python",
   "name": "python",
   "nbconvert_exporter": "python",
   "pygments_lexer": "ipython3",
   "version": "3.9.12"
  }
 },
 "nbformat": 4,
 "nbformat_minor": 2
}
